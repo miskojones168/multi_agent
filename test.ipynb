{
 "cells": [
  {
   "cell_type": "code",
   "execution_count": 1,
   "metadata": {},
   "outputs": [],
   "source": [
    "from domain.action import *\n",
    "from domain.observation import *\n",
    "from domain.state import *\n",
    "\n",
    "from models.transition_model import *\n",
    "from models.reward_model import *"
   ]
  },
  {
   "cell_type": "code",
   "execution_count": 2,
   "metadata": {},
   "outputs": [
    {
     "data": {
      "text/plain": [
       "(1, 0)"
      ]
     },
     "execution_count": 2,
     "metadata": {},
     "output_type": "execute_result"
    }
   ],
   "source": [
    "e = MoveEast2D\n",
    "e.motion\n"
   ]
  },
  {
   "cell_type": "code",
   "execution_count": 3,
   "metadata": {},
   "outputs": [],
   "source": [
    "ob = Observation(objid='10', pose=(10, 10))"
   ]
  },
  {
   "cell_type": "code",
   "execution_count": 4,
   "metadata": {},
   "outputs": [
    {
     "data": {
      "text/plain": [
       "ObjectState(0-robot-(5, 5))"
      ]
     },
     "execution_count": 4,
     "metadata": {},
     "output_type": "execute_result"
    }
   ],
   "source": [
    "r = ObjectState(objtype='robot', objid='0', pose=(5,5))\n",
    "r"
   ]
  },
  {
   "cell_type": "code",
   "execution_count": 5,
   "metadata": {},
   "outputs": [
    {
     "ename": "TypeError",
     "evalue": "TransitionModel.__init__() missing 1 required positional argument: 'dim'",
     "output_type": "error",
     "traceback": [
      "\u001b[0;31m---------------------------------------------------------------------------\u001b[0m",
      "\u001b[0;31mTypeError\u001b[0m                                 Traceback (most recent call last)",
      "Cell \u001b[0;32mIn[5], line 1\u001b[0m\n\u001b[0;32m----> 1\u001b[0m t \u001b[38;5;241m=\u001b[39m \u001b[43mTransitionModel\u001b[49m\u001b[43m(\u001b[49m\u001b[43m)\u001b[49m\n\u001b[1;32m      2\u001b[0m t\u001b[38;5;241m.\u001b[39mprobability(next_state\u001b[38;5;241m=\u001b[39mObjectState(objtype\u001b[38;5;241m=\u001b[39m\u001b[38;5;124m'\u001b[39m\u001b[38;5;124mrobot\u001b[39m\u001b[38;5;124m'\u001b[39m, objid\u001b[38;5;241m=\u001b[39m\u001b[38;5;124m'\u001b[39m\u001b[38;5;124m0\u001b[39m\u001b[38;5;124m'\u001b[39m, pose\u001b[38;5;241m=\u001b[39m(\u001b[38;5;241m5\u001b[39m,\u001b[38;5;241m5\u001b[39m)), state\u001b[38;5;241m=\u001b[39mr, action\u001b[38;5;241m=\u001b[39mMoveStay2D)\n\u001b[1;32m      3\u001b[0m t\u001b[38;5;241m.\u001b[39margmax(state\u001b[38;5;241m=\u001b[39mr, action\u001b[38;5;241m=\u001b[39mMoveEast2D)\n",
      "\u001b[0;31mTypeError\u001b[0m: TransitionModel.__init__() missing 1 required positional argument: 'dim'"
     ]
    }
   ],
   "source": [
    "t = TransitionModel()\n",
    "t.probability(next_state=ObjectState(objtype='robot', objid='0', pose=(5,5)), state=r, action=MoveStay2D)\n",
    "t.argmax(state=r, action=MoveEast2D)"
   ]
  },
  {
   "cell_type": "code",
   "execution_count": null,
   "metadata": {},
   "outputs": [
    {
     "data": {
      "text/plain": [
       "ObjectState(0-wall-(5, 5))"
      ]
     },
     "execution_count": 6,
     "metadata": {},
     "output_type": "execute_result"
    }
   ],
   "source": [
    "w = ObjectState(objtype='wall', objid='0', pose=(5,5))\n",
    "w"
   ]
  },
  {
   "cell_type": "code",
   "execution_count": 8,
   "metadata": {},
   "outputs": [
    {
     "name": "stdout",
     "output_type": "stream",
     "text": [
      "10.0\n"
     ]
    }
   ],
   "source": [
    "tm = TransitionModel(dim=(3, 3))\n",
    "rm = RewardModel(transition_model=tm, reward_state=ObjectState(objtype='reward', objid=0, pose=(1, 1)))\n",
    "\n",
    "s = ObjectState(objtype='robot', objid=0, pose=(1,1))\n",
    "sn = ObjectState(objtype='robot', objid=0, pose=(0,1))\n",
    "\n",
    "r = rm.sample(state=s, action=MoveStay2D, next_state=sn)\n",
    "print(r)"
   ]
  }
 ],
 "metadata": {
  "kernelspec": {
   "display_name": "robotics",
   "language": "python",
   "name": "python3"
  },
  "language_info": {
   "codemirror_mode": {
    "name": "ipython",
    "version": 3
   },
   "file_extension": ".py",
   "mimetype": "text/x-python",
   "name": "python",
   "nbconvert_exporter": "python",
   "pygments_lexer": "ipython3",
   "version": "3.10.15"
  }
 },
 "nbformat": 4,
 "nbformat_minor": 2
}
